{
  "nbformat": 4,
  "nbformat_minor": 0,
  "metadata": {
    "colab": {
      "provenance": [],
      "include_colab_link": true
    },
    "kernelspec": {
      "name": "python3",
      "display_name": "Python 3"
    },
    "language_info": {
      "name": "python"
    }
  },
  "cells": [
    {
      "cell_type": "markdown",
      "metadata": {
        "id": "view-in-github",
        "colab_type": "text"
      },
      "source": [
        "<a href=\"https://colab.research.google.com/github/nadinne94/python/blob/main/C%C3%B3pia_de_WoMakersCode_BootcampDataAnalytics.ipynb\" target=\"_parent\"><img src=\"https://colab.research.google.com/assets/colab-badge.svg\" alt=\"Open In Colab\"/></a>"
      ]
    },
    {
      "cell_type": "markdown",
      "source": [
        "1 ) Para determinar se um candidato está qualificado para uma vaga de emprego, são aplicados dois critérios:\n",
        "\n",
        "a) O candidato deve ter uma presença igual ou superior a 60% em um treinamento obrigatório.\n",
        "\n",
        "b) O candidato deve ter uma média de desempenho igual ou superior a 7 em uma série de testes.\n",
        "\n",
        "Para auxiliar na avaliação dos candidatos, você deve criar uma função que recebe uma lista de dicionários contendo o nome do candidato, a média de desempenho e a quantidade de horas de ausência do treinamento. Com esses dados, a função deve calcular se o candidato está qualificado ou não. A presença do candidato é calculada considerando que o treinamento teve um total de 60 horas e utilizando a fórmula:\n",
        "\n",
        "(Total horas - número de faltas)/Total horas * 100;\n"
      ],
      "metadata": {
        "id": "3UpM724I5C19"
      }
    },
    {
      "cell_type": "code",
      "source": [
        "#Execute seu código aqui\n",
        "def avaliar_candidatos(candidatos):\n",
        "  for candidato in candidatos:\n",
        "    nome = candidato['nome']\n",
        "    media_desempenho = candidato['media_desempenho']\n",
        "    horas_ausencia = candidato['horas_ausencia']\n",
        "\n",
        "    #Cáclculo da presença do candidato\n",
        "    total_horas = 60\n",
        "    presenca = ((total_horas - horas_ausencia)/total_horas) * 100\n",
        "\n",
        "    #Verificação dos critérios\n",
        "    if presenca >= 60 and media_desempenho >= 7:\n",
        "      print(f'{nome} está qualificado(a) para a vaga')\n",
        "    else:\n",
        "      print(f'{nome} não está qualificado(a) para a vaga')\n",
        "\n",
        "\n",
        "candidatos = [\n",
        "    {'nome': 'Maria', 'media_desempenho': 8, 'horas_ausencia': 7},\n",
        "    {'nome': 'Ana', 'media_desempenho': 9, 'horas_ausencia': 4},\n",
        "    {'nome': 'João', 'media_desempenho': 5, 'horas_ausencia': 5}\n",
        "    # assim sucessivamente até adicionar todos os candidatos\n",
        "]\n",
        "\n",
        "avaliar_candidatos(candidatos)"
      ],
      "metadata": {
        "id": "Xv1MnjPQvkSt",
        "colab": {
          "base_uri": "https://localhost:8080/"
        },
        "outputId": "16b2484b-1dc9-4b00-8c04-477d3ef06af1"
      },
      "execution_count": null,
      "outputs": [
        {
          "output_type": "stream",
          "name": "stdout",
          "text": [
            "Maria está qualificado(a) para a vaga\n",
            "Ana está qualificado(a) para a vaga\n",
            "João não está qualificado(a) para a vaga\n"
          ]
        }
      ]
    },
    {
      "cell_type": "markdown",
      "source": [
        "2) Crie uma função que recebe uma palavra (string), separa todos os caracteres em uma lista, retorna esta lista e quantidade de letras."
      ],
      "metadata": {
        "id": "fKKdyWo55e8w"
      }
    },
    {
      "cell_type": "code",
      "source": [
        "#Execute seu código aqui\n",
        "def separar_caracteres(palavra):\n",
        "\n",
        "  #separar caracteres em lista\n",
        "  lista_caracteres = list(palavra)\n",
        "\n",
        "  #calcular quantidade de letras na palavra\n",
        "  quantidade_letras = sum(c.isalpha() for c in palavra)\n",
        "\n",
        "  #retorno da lista de caracteres e quantidade de letras\n",
        "  return lista_caracteres, quantidade_letras\n",
        "\n",
        "\n",
        "palavra_exemplo = 'WomakersCode'\n",
        "caracteres, quantidade_letras = separar_caracteres(palavra_exemplo)\n",
        "\n",
        "print('Lista de caracteres:', caracteres)\n",
        "print('Quantidade de letras:', quantidade_letras)\n"
      ],
      "metadata": {
        "id": "Qq7QoqubvjbG",
        "colab": {
          "base_uri": "https://localhost:8080/"
        },
        "outputId": "e7994d7b-e106-41d4-8a6f-8a2f0582b194"
      },
      "execution_count": null,
      "outputs": [
        {
          "output_type": "stream",
          "name": "stdout",
          "text": [
            "Lista de caracteres: ['W', 'o', 'm', 'a', 'k', 'e', 'r', 's', 'C', 'o', 'd', 'e']\n",
            "Quantidade de letras: 12\n"
          ]
        }
      ]
    },
    {
      "cell_type": "markdown",
      "source": [
        "3) Crie um programa que leia quanto dinheiro uma pessoa tem na carteira, e calcule quanto poderia comprar de cada moeda estrangeira. Considere a tabela de conversão abaixo:\n",
        "\n",
        "Valor convertido em real:\n",
        "*   Dólar Americano: 4,91\n",
        "*   Peso Argentino: 0,02\n",
        "*   Dólar Australiano: 3,18\n",
        "*   Dólar Canadense: 3,64\n",
        "*   Franco Suiço: 0,42\n",
        "*   Euro:  5,36\n",
        "*   Libra esterlina: 6,21\n",
        "\n",
        "\n",
        "\n",
        "\n",
        "\n",
        "\n",
        "\n"
      ],
      "metadata": {
        "id": "EEXxWdjH5sju"
      }
    },
    {
      "cell_type": "code",
      "source": [
        "from typing_extensions import reveal_type\n",
        "#Execute seu código aqui\n",
        "def calcular_conversao(valor_em_real, taxas):\n",
        "\n",
        "  #dicionário vazio que receberá os valores convertidos\n",
        "  valores_convertidos = {}\n",
        "\n",
        "  #calcula a conversão a partir do dicionário declarado fora da função e recebido pelo parâmetro'taxas'\n",
        "  for moeda, taxa in taxas.items():\n",
        "    valores_convertidos[moeda] = valor_em_real / taxa\n",
        "\n",
        "  return valores_convertidos\n",
        "\n",
        "#definir as taxas de conversão em um dicionário\n",
        "taxas_conversao = {\n",
        "    'Dólar Americano':4.91,\n",
        "    'Peso Argentino': 0.02,\n",
        "    'Dólar Australiano':3.18,\n",
        "    'Dolar Canadense':3.64,\n",
        "    'Franco Suiço':0.42,\n",
        "    'Euro':5.36,\n",
        "    'Libra esterlina':6.21\n",
        "}\n",
        "\n",
        "#solicitar ao usuário o valor da carteira em real\n",
        "valor_em_real = float(input('Digite o valor em real na sua carteira: '))\n",
        "\n",
        "#chama a função para a conversão do valor real em moeda estrangeira\n",
        "valores_convertidos = calcular_conversao(valor_em_real, taxas_conversao)\n",
        "\n",
        "#exibição do resultado\n",
        "print(\"\\nValores convertidos:\")\n",
        "for moeda, valor_convertido in valores_convertidos.items():\n",
        "    print(f\"{moeda}: {valor_convertido:.2f}\")"
      ],
      "metadata": {
        "id": "BFil1HpZvbFg",
        "colab": {
          "base_uri": "https://localhost:8080/"
        },
        "outputId": "a1d61109-972e-4adb-9835-e74e56e9017f"
      },
      "execution_count": null,
      "outputs": [
        {
          "output_type": "stream",
          "name": "stdout",
          "text": [
            "Digite o valor em real na sua carteira: 1000\n",
            "\n",
            "Valores convertidos:\n",
            "Dólar Americano: 203.67\n",
            "Peso Argentino: 50000.00\n",
            "Dólar Australiano: 314.47\n",
            "Dolar Canadense: 274.73\n",
            "Franco Suiço: 2380.95\n",
            "Euro: 186.57\n",
            "Libra esterlina: 161.03\n"
          ]
        }
      ]
    },
    {
      "cell_type": "markdown",
      "source": [
        "\n",
        "4) O chefe decidiu premiar os melhores funcionários de sua empresa com um brinde. Para isso ela vai entregar um brinde para todos os funcionários que tiverem uma performance superior a média da equipe.\n",
        "\n",
        "Elabore uma função que recebe uma lista de nome em formato de dict (dicionário) com nome do funcionário e a média do funcionário (Valor de 0 a 10). Esta função deve calcular a média da equipe, identificar quais funcionários tem média igual ou superior a média da equipe e retornar uma lista com o nome dos funcionários que possuem média igual ou superior a média da equipe. A ordem dos nomes da lista de retorno deve ser em ordem decrescente."
      ],
      "metadata": {
        "id": "Tj2Ds76-6FXs"
      }
    },
    {
      "cell_type": "code",
      "source": [
        "#Execute seu código aqui\n",
        "def melhores_funcionarios(lista_funcionarios):\n",
        "\n",
        "  soma = 0\n",
        "  lista_melhores_funcionarios = []\n",
        "  #soma da média de todos os funcionários\n",
        "  for funcionario in lista_funcionarios:\n",
        "    soma = soma + funcionario['media']\n",
        "\n",
        "  #cálculo e visualização da média da equipe\n",
        "  media_equipe = soma/len(lista_funcionarios)\n",
        "  print('Média da equipe:', media_equipe)\n",
        "\n",
        "  #verifica se a nota média do funcionário >= à média da equipe\n",
        "  for funcionario in lista_funcionarios:\n",
        "    if funcionario['media'] >= media_equipe:\n",
        "      lista_melhores_funcionarios.append(funcionario['nome'])\n",
        "\n",
        "  lista_melhores_funcionarios.sort(key=lambda x: next(item['media'] for item in lista_funcionarios if item['nome'] == x), reverse=True)\n",
        "\n",
        "\n",
        "  return lista_melhores_funcionarios\n",
        "\n",
        "#lista dos funcionários em forma de dicionário\n",
        "funcionarios = [\n",
        "    {'nome': 'Maria', 'media': 8.5},\n",
        "    {'nome': 'João', 'media': 7.2},\n",
        "    {'nome': 'Ana', 'media': 9.8}\n",
        "    #pode-se adicionar mais itens\n",
        "]\n",
        "\n",
        "#visualização dos funcionários com nota média >= à média da equipe\n",
        "funcionarios_selecionados = melhores_funcionarios(funcionarios)\n",
        "print(\"Funcionários com média igual ou superior à média da equipe:\", funcionarios_selecionados)"
      ],
      "metadata": {
        "id": "poEG0mnOvgSO",
        "colab": {
          "base_uri": "https://localhost:8080/"
        },
        "outputId": "66f0d391-0ae6-4b30-a6b8-6e04988b7dd6"
      },
      "execution_count": null,
      "outputs": [
        {
          "output_type": "stream",
          "name": "stdout",
          "text": [
            "Média da equipe: 8.5\n",
            "Funcionários com média igual ou superior à média da equipe: ['Ana', 'Maria']\n"
          ]
        }
      ]
    },
    {
      "cell_type": "code",
      "source": [],
      "metadata": {
        "id": "C4B4vJBVETW-"
      },
      "execution_count": null,
      "outputs": []
    },
    {
      "cell_type": "markdown",
      "source": [
        "5) Na variável países_ano, temos uma lista de listas, em que cada elemento é uma lista de dois elementos, em que o primeiro é o nome de um país e o segundo é o ano em que a nação foi fundada."
      ],
      "metadata": {
        "id": "pVSP5n1T_ZWQ"
      }
    },
    {
      "cell_type": "code",
      "source": [
        "lista_paises = [[\"Brasil\", \"1500\"],[\"Mexico\",\"1519\"], [\"Inglaterra\", \"927\"], [\"Espanha\",\"1978\"], [\"Escocia\", \"843\"]]"
      ],
      "metadata": {
        "id": "zRywrNff01he"
      },
      "execution_count": null,
      "outputs": []
    },
    {
      "cell_type": "markdown",
      "source": [
        "Você deseja criar uma nova lista de listas a partir do exemplo (lista_paises), em que cada elemento é uma lista de dois elementos, sendo o primeiro o nome do país (como é na lista original) e o segundo é o número de anos desde a fundação do país (considere que o ano atual é 2023)."
      ],
      "metadata": {
        "id": "OpU-UWXC01Ca"
      }
    },
    {
      "cell_type": "code",
      "source": [
        "#Execute seu código aqui\n",
        "\n",
        "#importando biblioteca para obter a data atual\n",
        "from datetime import datetime\n",
        "\n",
        "#função que calcula a diferença entre o ano atual e o ano de fundação\n",
        "def calcular_anos_desde_fundacao(ano_fundacao):\n",
        "    ano_atual = datetime.now().year #selecionando só o ano\n",
        "    return ano_atual - int(ano_fundacao)\n",
        "\n",
        "lista_paises = [[\"Brasil\", \"1500\"], [\"Mexico\", \"1519\"], [\"Inglaterra\", \"927\"], [\"Espanha\", \"1978\"], [\"Escocia\", \"843\"]]\n",
        "\n",
        "#declarando uma lista vazia para receber a nova lista\n",
        "paises_ano = []\n",
        "\n",
        "#chama a função e armazena os novos valores\n",
        "for pais, ano in lista_paises:\n",
        "    anos_desde_fundacao = calcular_anos_desde_fundacao(ano)\n",
        "    paises_ano.append([pais, anos_desde_fundacao])\n",
        "\n",
        "print(paises_ano)\n"
      ],
      "metadata": {
        "id": "xaEQxcMFvhVa",
        "colab": {
          "base_uri": "https://localhost:8080/"
        },
        "outputId": "a07493c5-c06a-4b94-b84b-2542c1fc258f"
      },
      "execution_count": null,
      "outputs": [
        {
          "output_type": "stream",
          "name": "stdout",
          "text": [
            "[['Brasil', 523], ['Mexico', 504], ['Inglaterra', 1096], ['Espanha', 45], ['Escocia', 1180]]\n"
          ]
        }
      ]
    },
    {
      "cell_type": "markdown",
      "source": [
        "6) Um jogador de um jogo de vídeo game deseja subir de nível em seu personagem ao atingir 50 inimigos derrotados. Enquanto esse número não é alcançado, uma mensagem indicando quantos inimigos ainda faltam é exibida na tela.\n"
      ],
      "metadata": {
        "id": "_qb748YiCzh-"
      }
    },
    {
      "cell_type": "code",
      "source": [
        "inimigos_derrotados = 0\n",
        "nivel = 0\n",
        "\n",
        "while (inimigos_derrotados < 50):\n",
        "\n",
        "    print(f\"Faltam {50 - inimigos_derrotados} inimigos para você mudar de nível!\")\n",
        "\n",
        "    # faça seu código aqui\n",
        "    novos_inimigos_derrotados = int(input('Digite o número de inimigos derrotados:'))\n",
        "    inimigos_derrotados = inimigos_derrotados + novos_inimigos_derrotados\n",
        "\n",
        "    if inimigos_derrotados == 50:\n",
        "      break\n",
        "\n",
        "print(\"\\nVocê atingiu o próximo nível!\")\n",
        "nivel = 1"
      ],
      "metadata": {
        "colab": {
          "base_uri": "https://localhost:8080/"
        },
        "id": "tZl1zjzsY5Vi",
        "outputId": "aaf06168-708b-4f94-a793-3834ac29a4af"
      },
      "execution_count": null,
      "outputs": [
        {
          "output_type": "stream",
          "name": "stdout",
          "text": [
            "Faltam 50 inimigos para você mudar de nível!\n",
            "Digite o número de inimigos derrotados:35\n",
            "Faltam 15 inimigos para você mudar de nível!\n",
            "Digite o número de inimigos derrotados:10\n",
            "Faltam 5 inimigos para você mudar de nível!\n",
            "Digite o número de inimigos derrotados:5\n",
            "\n",
            "Você atingiu o próximo nível!\n"
          ]
        }
      ]
    }
  ]
}
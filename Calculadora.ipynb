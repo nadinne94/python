{
 "cells": [
  {
   "cell_type": "code",
   "execution_count": 5,
   "id": "bea3f85f",
   "metadata": {},
   "outputs": [
    {
     "name": "stdout",
     "output_type": "stream",
     "text": [
      "Bem-vindo a calculadora!\n",
      "Digite o primeiro número: 5\n",
      "Digite o segundo número: 9\n",
      "Digite o operador para cálculo: +\n",
      "O resultado é:  14.0\n"
     ]
    }
   ],
   "source": [
    "print('Bem-vindo a calculadora!')\n",
    "num1 = float(input('Digite o primeiro número: '))\n",
    "num2 = float(input('Digite o segundo número: '))\n",
    "operador = input('Digite o operador para cálculo: ')\n",
    "\n",
    "if operador == \"+\":\n",
    "    resultado = num1 + num2\n",
    "    print('O resultado é: ', resultado)\n",
    "\n",
    "elif operador == \"-\":\n",
    "    resultado = num1 - num2\n",
    "    print('O resultado é: ', resultado)\n",
    "    \n",
    "elif operador == \"*\":\n",
    "    resultado = num1 + num2\n",
    "    print('O resultado é: ', resultado)\n",
    "    \n",
    "elif operador == \"/\":\n",
    "    resultado = num1 + num2\n",
    "    print('O resultado é: ', resultado)\n",
    "\n",
    "else:\n",
    "    print('Operador inválido! Digite um operador inválido.')\n"
   ]
  },
  {
   "cell_type": "code",
   "execution_count": null,
   "id": "0c03b6c8",
   "metadata": {},
   "outputs": [],
   "source": []
  }
 ],
 "metadata": {
  "kernelspec": {
   "display_name": "Python 3 (ipykernel)",
   "language": "python",
   "name": "python3"
  },
  "language_info": {
   "codemirror_mode": {
    "name": "ipython",
    "version": 3
   },
   "file_extension": ".py",
   "mimetype": "text/x-python",
   "name": "python",
   "nbconvert_exporter": "python",
   "pygments_lexer": "ipython3",
   "version": "3.11.5"
  }
 },
 "nbformat": 4,
 "nbformat_minor": 5
}

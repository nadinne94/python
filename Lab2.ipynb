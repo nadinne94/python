{
 "cells": [
  {
   "cell_type": "code",
   "execution_count": 6,
   "id": "a347f91d",
   "metadata": {},
   "outputs": [
    {
     "name": "stdout",
     "output_type": "stream",
     "text": [
      "\n",
      "******************* Calculadora em Python *******************\n",
      "Digite a operação a ser realizada (+,-,*,/): ?\n",
      "Digite o primeiro número para a operação: 5\n",
      "Digite o segundo número para a operação: 6\n",
      "Operador inválido\n"
     ]
    }
   ],
   "source": [
    "print(\"\\n******************* Calculadora em Python *******************\")\n",
    "\n",
    "\n",
    "def soma(x,y):\n",
    "    return x*y\n",
    "\n",
    "def subtracao(x,y):\n",
    "    return x-y\n",
    "\n",
    "def multiplicacao(x,y):\n",
    "    return x*y\n",
    "\n",
    "def divisao(x, y):\n",
    "    return x/y\n",
    "\n",
    "operador = input('Digite a operação a ser realizada (+,-,*,/): ')\n",
    "num1 = int(input('Digite o primeiro número para a operação: '))\n",
    "num2 = int(input('Digite o segundo número para a operação: '))\n",
    "\n",
    "if operador == '+':\n",
    "    calcular = soma(num1, num2)\n",
    "    print('O resultado da soma é ', calcular)\n",
    "\n",
    "elif operador == '-':\n",
    "    calcular = subtracao(num1, num2)\n",
    "    print('O resultado da subtração é ', calcular)\n",
    "\n",
    "elif operador == '*':\n",
    "    calcular = multiplicacao(num1, num2)\n",
    "    print('O resultado da multiplicação é ', calcular)\n",
    "\n",
    "elif operador == '/':\n",
    "    calcular = divisao(num1, num2)\n",
    "    print('O resultado da divisão é ', calcular)\n",
    "\n",
    "else:\n",
    "    print('Operador inválido')"
   ]
  },
  {
   "cell_type": "code",
   "execution_count": null,
   "id": "3c50cb31",
   "metadata": {},
   "outputs": [],
   "source": []
  }
 ],
 "metadata": {
  "kernelspec": {
   "display_name": "Python 3 (ipykernel)",
   "language": "python",
   "name": "python3"
  },
  "language_info": {
   "codemirror_mode": {
    "name": "ipython",
    "version": 3
   },
   "file_extension": ".py",
   "mimetype": "text/x-python",
   "name": "python",
   "nbconvert_exporter": "python",
   "pygments_lexer": "ipython3",
   "version": "3.11.5"
  }
 },
 "nbformat": 4,
 "nbformat_minor": 5
}

{
 "cells": [
  {
   "cell_type": "code",
   "execution_count": 11,
   "id": "8f3596f8",
   "metadata": {},
   "outputs": [],
   "source": [
    "lista = [2,4,63,78,53,13,65,87,65,34,98,45,37,24,78,64,12]"
   ]
  },
  {
   "cell_type": "code",
   "execution_count": 15,
   "id": "db86b2b6",
   "metadata": {},
   "outputs": [],
   "source": [
    "def bubble_sort(arr):\n",
    "    \n",
    "    n = len(arr)\n",
    "    \n",
    "    for i in range(n):\n",
    "    \n",
    "        for j in range(0, n-i-1):\n",
    "            \n",
    "            if arr[j] > arr[j+1]:\n",
    "                \n",
    "                arr[j], arr[j+1] = arr[j+1], arr[j]\n",
    "    \n",
    "    return (arr)"
   ]
  },
  {
   "cell_type": "code",
   "execution_count": 16,
   "id": "af110fc0",
   "metadata": {},
   "outputs": [
    {
     "name": "stdout",
     "output_type": "stream",
     "text": [
      "[2, 4, 12, 13, 24, 34, 37, 45, 53, 63, 64, 65, 65, 78, 78, 87, 98]\n"
     ]
    }
   ],
   "source": [
    "print(bubble_sort(lista))"
   ]
  },
  {
   "cell_type": "code",
   "execution_count": null,
   "id": "86e389a6",
   "metadata": {},
   "outputs": [],
   "source": []
  }
 ],
 "metadata": {
  "kernelspec": {
   "display_name": "Python 3 (ipykernel)",
   "language": "python",
   "name": "python3"
  },
  "language_info": {
   "codemirror_mode": {
    "name": "ipython",
    "version": 3
   },
   "file_extension": ".py",
   "mimetype": "text/x-python",
   "name": "python",
   "nbconvert_exporter": "python",
   "pygments_lexer": "ipython3",
   "version": "3.11.5"
  }
 },
 "nbformat": 4,
 "nbformat_minor": 5
}
